{
 "cells": [
  {
   "cell_type": "code",
   "execution_count": 11,
   "metadata": {},
   "outputs": [],
   "source": [
    "def fibonacci(a,b,n):\n",
    "    print(a, end = ' ')\n",
    "    if n < 1:\n",
    "        return n\n",
    "    else:\n",
    "        c = a + b\n",
    "        a = b\n",
    "        fibonacci(a,c,n-1)\n",
    "        \n",
    "    "
   ]
  },
  {
   "cell_type": "code",
   "execution_count": 13,
   "metadata": {},
   "outputs": [
    {
     "name": "stdout",
     "output_type": "stream",
     "text": [
      "0 1 1 2 3 5 8 13 21 34 55 "
     ]
    }
   ],
   "source": [
    "fibonacci(0,1,10)"
   ]
  },
  {
   "cell_type": "code",
   "execution_count": 14,
   "metadata": {},
   "outputs": [],
   "source": [
    "def star_tree(n):\n",
    "    if n == 0:\n",
    "        return n\n",
    "    else:\n",
    "        (star_tree(n-1))\n",
    "    print(n * '*')"
   ]
  },
  {
   "cell_type": "code",
   "execution_count": 15,
   "metadata": {},
   "outputs": [
    {
     "name": "stdout",
     "output_type": "stream",
     "text": [
      "*\n",
      "**\n",
      "***\n",
      "****\n",
      "*****\n"
     ]
    }
   ],
   "source": [
    "star_tree(5)"
   ]
  },
  {
   "cell_type": "code",
   "execution_count": 16,
   "metadata": {},
   "outputs": [],
   "source": [
    "import time\n",
    "from random import randint \n",
    "y = 10000\n",
    "alist = [randint(-10000,10000) for x in range(y)]\n",
    "blist = [randint(-10000,10000) for x in range(y)]\n",
    "clist = [randint(-10000,10000) for x in range(y)]"
   ]
  },
  {
   "cell_type": "code",
   "execution_count": 17,
   "metadata": {},
   "outputs": [
    {
     "name": "stdout",
     "output_type": "stream",
     "text": [
      "[9867, 4024, 413, 7614, 6010, -9783, 9595, -6251, -3343, -8074]\n",
      "[9424, -855, 9959, 3730, -1584, 4628, 2989, 6251, -3851, 339]\n",
      "[-7360, -4514, -9942, -4926, 6094, -5515, 5111, -7075, 2253, -9945]\n"
     ]
    }
   ],
   "source": [
    "print(alist[:10])\n",
    "print(blist[:10])\n",
    "print(clist[:10])"
   ]
  },
  {
   "cell_type": "code",
   "execution_count": 18,
   "metadata": {},
   "outputs": [],
   "source": [
    "def bubble_sort(array):\n",
    "    step = 0\n",
    "    #get the length of the array\n",
    "    len_array = len(array)\n",
    "    \n",
    "    #loop over the array n times\n",
    "    for i in range(len_array):\n",
    "        \n",
    "        #loop over the elements from the first to the second last\n",
    "        for j in range(0, len_array-i-1):\n",
    "            #if the current element is greater than the next in the list,\n",
    "            if array[j] > array[j+1] :\n",
    "                #swap the positions of the elements\n",
    "                array[j], array[j+1] = array[j+1], array[j]\n",
    "            step += 1\n",
    "#             print(f\"{step}: {array}\")\n",
    "                \n",
    "                #this step does 3 things:\n",
    "                # 1-it sorts the two elements according to size\n",
    "                # 2-it positions the current element to be compared with the next element in the nested loop.\n",
    "                # 3-if it turns out the next element is larger compared to the current, nothing will be done.\n",
    "                #   The loop continues to check the next element with whatever element that is left.\n",
    "        "
   ]
  },
  {
   "cell_type": "code",
   "execution_count": 19,
   "metadata": {},
   "outputs": [
    {
     "name": "stdout",
     "output_type": "stream",
     "text": [
      "8.940624952316284\n"
     ]
    }
   ],
   "source": [
    "\n",
    "start = time.time()\n",
    "bubble_sort(alist)\n",
    "print(time.time() - start)"
   ]
  },
  {
   "cell_type": "code",
   "execution_count": 20,
   "metadata": {},
   "outputs": [
    {
     "name": "stdout",
     "output_type": "stream",
     "text": [
      "[-10000, -9995, -9994, -9992, -9990, -9986, -9978, -9974, -9971, -9963]\n"
     ]
    }
   ],
   "source": [
    "print(alist[:10])"
   ]
  },
  {
   "cell_type": "code",
   "execution_count": 21,
   "metadata": {},
   "outputs": [],
   "source": [
    "def mergeSort(arr): \n",
    "    if len(arr) >1: \n",
    "        mid = len(arr)//2 # Finding the mid of the array \n",
    "        L = arr[:mid] # Dividing the array elements  \n",
    "        R = arr[mid:] # into 2 halves \n",
    "  \n",
    "        mergeSort(L) # Sorting the first half \n",
    "        mergeSort(R) # Sorting the second half \n",
    "  \n",
    "        i = j = k = 0\n",
    "          \n",
    "        # Copy data to temp arrays L[] and R[] \n",
    "        while i < len(L) and j < len(R): \n",
    "            if L[i] < R[j]: \n",
    "                arr[k] = L[i] \n",
    "                i+= 1\n",
    "            else: \n",
    "                arr[k] = R[j] \n",
    "                j+= 1\n",
    "            k+= 1\n",
    "          \n",
    "        # Checking if any element was left \n",
    "        while i < len(L): \n",
    "            arr[k] = L[i] \n",
    "            i+= 1\n",
    "            k+= 1\n",
    "          \n",
    "        while j < len(R): \n",
    "            arr[k] = R[j] \n",
    "            j+= 1\n",
    "            k+= 1"
   ]
  },
  {
   "cell_type": "code",
   "execution_count": 22,
   "metadata": {},
   "outputs": [
    {
     "name": "stdout",
     "output_type": "stream",
     "text": [
      "0.0449216365814209\n"
     ]
    }
   ],
   "source": [
    "start = time.time()\n",
    "mergeSort(blist)\n",
    "print(time.time()-start)"
   ]
  },
  {
   "cell_type": "code",
   "execution_count": 23,
   "metadata": {},
   "outputs": [
    {
     "name": "stdout",
     "output_type": "stream",
     "text": [
      "[-10000, -9999, -9993, -9992, -9982, -9979, -9978, -9976, -9975, -9974]\n"
     ]
    }
   ],
   "source": [
    "print(blist[:10])"
   ]
  },
  {
   "cell_type": "code",
   "execution_count": 24,
   "metadata": {},
   "outputs": [
    {
     "name": "stdout",
     "output_type": "stream",
     "text": [
      "0.0019948482513427734\n"
     ]
    }
   ],
   "source": [
    "start = time.time()\n",
    "clist.sort()\n",
    "print(time.time()-start)"
   ]
  }
 ],
 "metadata": {
  "kernelspec": {
   "display_name": "Python 3",
   "language": "python",
   "name": "python3"
  },
  "language_info": {
   "codemirror_mode": {
    "name": "ipython",
    "version": 3
   },
   "file_extension": ".py",
   "mimetype": "text/x-python",
   "name": "python",
   "nbconvert_exporter": "python",
   "pygments_lexer": "ipython3",
   "version": "3.7.6"
  }
 },
 "nbformat": 4,
 "nbformat_minor": 4
}
