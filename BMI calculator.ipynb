{
 "cells": [
  {
   "cell_type": "code",
   "execution_count": 1,
   "metadata": {},
   "outputs": [
    {
     "name": "stdout",
     "output_type": "stream",
     "text": [
      "hello world\n"
     ]
    }
   ],
   "source": [
    "print(\"hello world\")"
   ]
  },
  {
   "cell_type": "code",
   "execution_count": 12,
   "metadata": {},
   "outputs": [
    {
     "name": "stdout",
     "output_type": "stream",
     "text": [
      "what is your weight:75\n",
      "what is your height:1.73\n",
      "25.05930702662969\n"
     ]
    }
   ],
   "source": []
  },
  {
   "cell_type": "code",
   "execution_count": 1,
   "metadata": {},
   "outputs": [
    {
     "name": "stdout",
     "output_type": "stream",
     "text": [
      "what is your weight:70\n",
      "what is your height:1.70\n",
      "your bmi is 24.22 you are acceptabl\n"
     ]
    }
   ],
   "source": [
    "weight = float(input(\"what is your weight:\"))\n",
    "height = float(input(\"what is your height:\"))\n",
    "w = weight\n",
    "h = height\n",
    "bmi= w / h ** 2\n",
    "\n",
    "if bmi > 25:\n",
    "    print(\"your bmi is\", round(bmi,2), \"you are overweight\")\n",
    "    \n",
    "elif bmi < 18:\n",
    "    print(\"your bmi is\", round(bmi,2), \"you are underweight\")\n",
    "    \n",
    "else:\n",
    "    print(\"your bmi is\", round(bmi,2), \"you are acceptable\")"
   ]
  },
  {
   "cell_type": "code",
   "execution_count": null,
   "metadata": {},
   "outputs": [],
   "source": []
  },
  {
   "cell_type": "code",
   "execution_count": null,
   "metadata": {},
   "outputs": [],
   "source": []
  }
 ],
 "metadata": {
  "kernelspec": {
   "display_name": "Python 3",
   "language": "python",
   "name": "python3"
  },
  "language_info": {
   "codemirror_mode": {
    "name": "ipython",
    "version": 3
   },
   "file_extension": ".py",
   "mimetype": "text/x-python",
   "name": "python",
   "nbconvert_exporter": "python",
   "pygments_lexer": "ipython3",
   "version": "3.7.1"
  }
 },
 "nbformat": 4,
 "nbformat_minor": 2
}
