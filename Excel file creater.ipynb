{
 "cells": [
  {
   "cell_type": "code",
   "execution_count": 22,
   "metadata": {},
   "outputs": [
    {
     "name": "stdout",
     "output_type": "stream",
     "text": [
      "Please input your headers here separated by a comma(eg. col1, col2, col3): test1,test2\n",
      "Please input dataset 1 (eg. red, green, blue): red,green\n",
      "Please input dataset 1 (eg. red, green, blue): blue, yellow\n",
      "Please input dataset 1 (eg. red, green, blue): ####\n"
     ]
    }
   ],
   "source": [
    "import csv\n",
    "\n",
    "headers = \"\"\n",
    "\n",
    "# create new csv file\n",
    "open(f\"test.csv\", \"w\").close()\n",
    "\n",
    "#request for headers\n",
    "while headers == \"\":\n",
    "        headers = input(\"Please input your headers here separated by a comma(eg. col1, col2, col3): \")\n",
    "\n",
    "headers = headers.split(\", \")\n",
    "\n",
    "row_count = 0\n",
    "datas = input(f\"Please input dataset {row_count+1} (eg. red, green, blue): \")\n",
    "\n",
    "while datas != \"####\":\n",
    "            data_list = datas.split(\",\")\n",
    "            list_of_datas.append(data_list)\n",
    "            datas = input(f\"Please input dataset {row_count+1} (eg. red, green, blue): \")\n",
    "\n",
    "\n",
    "with open('test.csv', mode = \"w\", newline = '') as testfile:\n",
    "    writer = csv.writer(testfile)#, #delimiter = ',', quotechar='\"', quoting=csv.QUOTE_MINIMAL)\n",
    "    writer.writerow(headers)\n",
    "    for row in list_of_datas:\n",
    "        writer.writerow(row)\n",
    "\n",
    "testfile.close()\n",
    "\n",
    "\n"
   ]
  }
 ],
 "metadata": {
  "kernelspec": {
   "display_name": "Python 3",
   "language": "python",
   "name": "python3"
  },
  "language_info": {
   "codemirror_mode": {
    "name": "ipython",
    "version": 3
   },
   "file_extension": ".py",
   "mimetype": "text/x-python",
   "name": "python",
   "nbconvert_exporter": "python",
   "pygments_lexer": "ipython3",
   "version": "3.7.6"
  }
 },
 "nbformat": 4,
 "nbformat_minor": 4
}
