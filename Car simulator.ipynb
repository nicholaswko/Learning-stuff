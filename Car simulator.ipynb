{
 "cells": [
  {
   "cell_type": "code",
   "execution_count": 1,
   "metadata": {},
   "outputs": [
    {
     "name": "stdout",
     "output_type": "stream",
     "text": [
      ">stop\n",
      "car already stopped\n",
      ">start\n",
      "car started\n",
      ">stop\n",
      "car stopped\n",
      ">start\n",
      "car started\n",
      ">start\n",
      "car already started\n",
      ">start\n",
      "car already started\n",
      ">stop\n",
      "car stopped\n",
      ">start\n",
      "car started\n",
      ">quit\n",
      "thanks for playing\n"
     ]
    }
   ],
   "source": [
    "Help = 'help'    \n",
    "quit ='quit'\n",
    "start ='start'\n",
    "stop ='stop'\n",
    "command = \"\"\n",
    "ready = 1\n",
    "end = 0\n",
    "    \n",
    "while True:\n",
    "        command = input('>').lower()\n",
    "        if command == start:\n",
    "            if ready == 1:\n",
    "                print('car started')\n",
    "                ready -= 1\n",
    "                end += 1\n",
    "            else: \n",
    "                print('car already started')\n",
    "            \n",
    "        elif command == stop:\n",
    "            if end == 1:\n",
    "                print('car stopped')\n",
    "                end -= 1\n",
    "                ready += 1\n",
    "            else: \n",
    "                print('car already stopped')\n",
    "            \n",
    "            \n",
    "        elif command == Help:\n",
    "            print(\"\"\"\n",
    "start - to start the car\n",
    "stop - to stop the car\n",
    "quit - to exit\n",
    "                  \"\"\")\n",
    "        elif command == quit:\n",
    "            break\n",
    "           \n",
    "        else: \n",
    "            print('I dont understand')\n",
    "\n",
    "print('thanks for playing')"
   ]
  },
  {
   "cell_type": "code",
   "execution_count": null,
   "metadata": {},
   "outputs": [],
   "source": [
    "\n"
   ]
  },
  {
   "cell_type": "code",
   "execution_count": null,
   "metadata": {},
   "outputs": [],
   "source": []
  }
 ],
 "metadata": {
  "kernelspec": {
   "display_name": "Python 3",
   "language": "python",
   "name": "python3"
  },
  "language_info": {
   "codemirror_mode": {
    "name": "ipython",
    "version": 3
   },
   "file_extension": ".py",
   "mimetype": "text/x-python",
   "name": "python",
   "nbconvert_exporter": "python",
   "pygments_lexer": "ipython3",
   "version": "3.7.1"
  }
 },
 "nbformat": 4,
 "nbformat_minor": 2
}
